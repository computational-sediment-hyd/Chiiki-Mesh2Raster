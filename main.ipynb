{
 "cells": [
  {
   "cell_type": "code",
   "execution_count": null,
   "id": "7d5f1a14",
   "metadata": {},
   "outputs": [],
   "source": [
    "import geopandas as gpd\n",
    "import numpy as np\n",
    "import xarray as xr\n",
    "import rioxarray\n",
    "import glob\n",
    "import os"
   ]
  },
  {
   "cell_type": "markdown",
   "id": "38ca7ed8",
   "metadata": {},
   "source": [
    "# main "
   ]
  },
  {
   "cell_type": "code",
   "execution_count": null,
   "id": "16e82f9d",
   "metadata": {},
   "outputs": [],
   "source": [
    "path = 'org/'\n",
    "files = os.listdir(path)\n",
    "files_dir = [f for f in files if os.path.isdir(os.path.join(path, f))]"
   ]
  },
  {
   "cell_type": "code",
   "execution_count": null,
   "id": "22302ed2",
   "metadata": {},
   "outputs": [],
   "source": [
    "for fd in files_dir:\n",
    "    fp = glob.glob(path + fd + '\\\\*.shp')[0]\n",
    "    gdf = gpd.read_file(fp)\n",
    "    \n",
    "    ind = gdf[\"G02_001\"].values\n",
    "    val = gdf[\"G02_014\"].values # Total annual rainfall\n",
    "    \n",
    "    # size 1st order Chiki-Mesh\n",
    "    x = np.full((80,80), int(65000), dtype='uint16') # y, x\n",
    "    \n",
    "    for dp, v in zip(ind, val):\n",
    "        # yindex\n",
    "        iy = 10 * int(dp[4]) + int(dp[6])\n",
    "        # yindex\n",
    "        ix = 10 * int(dp[5]) + int(dp[7])\n",
    "        x[iy,ix] = int(v)\n",
    "    \n",
    "    dp = ind[0]\n",
    "    lonp = float(100) + float(dp[2:4])  + float(0.5*45/3600)\n",
    "    latp = float(dp[:2]) * float(40/60) + float(0.5*30/3600)\n",
    "    \n",
    "    lon = lonp + np.arange(80)*45/3600\n",
    "    lat = latp + np.arange(80)*30/3600\n",
    "    \n",
    "    # y is North to South\n",
    "    ds = xr.Dataset({\n",
    "                     'value': (['y','x'], x[::-1])                 \n",
    "                    }\n",
    "                    , coords={\n",
    "                                'x': lon\n",
    "                              , 'y': lat[::-1]\n",
    "                             }\n",
    "                        , attrs={'crs':'+init=epsg:' + str(4326)}\n",
    "                    )\n",
    "    \n",
    "    dsp = ds['value']\n",
    "    d = dsp.rio.write_crs('epsg:4326', inplace=True)\n",
    "    out = dsp.rio.to_raster(f'geotiff\\\\{dp[:4]}.tif') #, compress='zstd')"
   ]
  },
  {
   "cell_type": "markdown",
   "id": "3bb6be39",
   "metadata": {},
   "source": [
    "# make VRT"
   ]
  },
  {
   "cell_type": "code",
   "execution_count": null,
   "id": "ad01fd2e",
   "metadata": {},
   "outputs": [],
   "source": [
    "from osgeo import gdal \n",
    "\n",
    "# gdal 2.1以降\n",
    "my_vrt = gdal.BuildVRT('geotiff/output.vrt', glob.glob( 'geotiff/*.tif'), VRTNodata=65000, srcNodata=65000)\n",
    "my_vrt = None"
   ]
  },
  {
   "cell_type": "markdown",
   "id": "2f714a98",
   "metadata": {},
   "source": [
    "#  VRT to Raster"
   ]
  },
  {
   "cell_type": "code",
   "execution_count": null,
   "id": "583b6a0a",
   "metadata": {},
   "outputs": [],
   "source": [
    "ds = xr.open_rasterio('geotiff/output.vrt')\n",
    "\n",
    "d = ds.rio.write_crs('epsg:4326', inplace=True)\n",
    "out = ds.rio.to_raster('geotiff\\\\AverageAnnualRainfall2010.tif', compress='zstd')"
   ]
  },
  {
   "cell_type": "markdown",
   "id": "579baedf",
   "metadata": {},
   "source": [
    "# graphing"
   ]
  },
  {
   "cell_type": "code",
   "execution_count": null,
   "id": "f86dccf5",
   "metadata": {},
   "outputs": [],
   "source": [
    "import hvplot.xarray\n",
    "import geoviews as gv\n",
    "gv.extension('bokeh')"
   ]
  },
  {
   "cell_type": "code",
   "execution_count": null,
   "id": "1eea05b6",
   "metadata": {},
   "outputs": [],
   "source": [
    "ds = xr.open_rasterio('geotiff/AverageAnnualRainfall2010.tif')"
   ]
  },
  {
   "cell_type": "code",
   "execution_count": null,
   "id": "851048fd",
   "metadata": {},
   "outputs": [],
   "source": [
    "dsn = xr.where(ds == 65000, np.nan, ds)\n",
    "dsn.attrs = ds.attrs"
   ]
  },
  {
   "cell_type": "code",
   "execution_count": null,
   "id": "9a1b8808",
   "metadata": {},
   "outputs": [],
   "source": [
    "geomap = gv.WMTS('https://mt1.google.com/vt/lyrs=y&x={X}&y={Y}&z={Z}', name=\"GoogleMapsImagery\")\n",
    "fig = dsn.isel(band=0).hvplot.image(rasterize=False, geo=True, project=True\n",
    "                             , dynamic=False, cmap='jet', colorbar=True, clim=(0,40000), alpha=0.5).options(clipping_colors={'NaN': 'transparent'})\n",
    "g = geomap*fig\n",
    "go = g.options(title='Average annual rainfall 2010 [x10mm]', width=500, height=500)"
   ]
  },
  {
   "cell_type": "code",
   "execution_count": null,
   "id": "b8ca2e03",
   "metadata": {},
   "outputs": [],
   "source": [
    "d = hvplot.save(go,'map.html')"
   ]
  }
 ],
 "metadata": {
  "kernelspec": {
   "display_name": "Python 3",
   "language": "python",
   "name": "python3"
  },
  "language_info": {
   "codemirror_mode": {
    "name": "ipython",
    "version": 3
   },
   "file_extension": ".py",
   "mimetype": "text/x-python",
   "name": "python",
   "nbconvert_exporter": "python",
   "pygments_lexer": "ipython3",
   "version": "3.7.10"
  },
  "toc": {
   "base_numbering": 1,
   "nav_menu": {},
   "number_sections": true,
   "sideBar": true,
   "skip_h1_title": false,
   "title_cell": "Table of Contents",
   "title_sidebar": "Contents",
   "toc_cell": false,
   "toc_position": {},
   "toc_section_display": true,
   "toc_window_display": false
  }
 },
 "nbformat": 4,
 "nbformat_minor": 5
}
